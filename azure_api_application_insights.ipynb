{
 "cells": [
  {
   "cell_type": "code",
   "execution_count": null,
   "metadata": {},
   "outputs": [],
   "source": [
    "import requests as rq\n",
    "import pandas as pd \n",
    "\n",
    "url = \"https://api.applicationinsights.io/v1/apps/{APP-ID}/query?query=traces | where column_name_1 in (\\\"some_sting\\\") | where isnotnull(column_name_2[\\\"some_string\\\"]) | where column_name_3 has \\\"some_string\\\" | where timestamp between (datetime(2023-01-21) .. datetime(2025-01-01)) | project column_name_1,column_name_1[\\\"column_name_1_1\\\"],column_name_1[\\\"column_name_1_1\\\"],timestamp,column_name_4\"\n",
    "\n",
    "headers = {\n",
    "  'x-api-key': 'API_KEY_Value'\n",
    "}\n",
    "\n",
    "\n",
    "call_response = rq.get(url, headers=headers)\n",
    "data = call_response.json()\n",
    "result= {}\n",
    "for table in data['tables']:\n",
    "  dataset = pd.DataFrame.from_records(table['rows'], columns=[col['name'] for col in table['columns']])\n",
    "\n",
    "df = dataset\n",
    "\n",
    "df.head()"
   ]
  }
 ],
 "metadata": {
  "kernelspec": {
   "display_name": "base",
   "language": "python",
   "name": "python3"
  },
  "language_info": {
   "codemirror_mode": {
    "name": "ipython",
    "version": 3
   },
   "file_extension": ".py",
   "mimetype": "text/x-python",
   "name": "python",
   "nbconvert_exporter": "python",
   "pygments_lexer": "ipython3",
   "version": "3.9.12"
  }
 },
 "nbformat": 4,
 "nbformat_minor": 2
}
